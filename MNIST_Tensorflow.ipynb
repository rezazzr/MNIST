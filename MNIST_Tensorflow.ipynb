{
  "nbformat": 4,
  "nbformat_minor": 0,
  "metadata": {
    "colab": {
      "name": "MNIST_Tensorflow.ipynb",
      "version": "0.3.2",
      "views": {},
      "default_view": {},
      "provenance": [],
      "collapsed_sections": []
    },
    "kernelspec": {
      "name": "python3",
      "display_name": "Python 3"
    }
  },
  "cells": [
    {
      "metadata": {
        "id": "mZaN7qWlRJd9",
        "colab_type": "code",
        "colab": {
          "autoexec": {
            "startup": false,
            "wait_interval": 0
          },
          "output_extras": [
            {
              "item_id": 2
            }
          ],
          "base_uri": "https://localhost:8080/",
          "height": 85
        },
        "outputId": "bdbcb5af-6011-4121-e411-8833324464c5",
        "executionInfo": {
          "status": "ok",
          "timestamp": 1519896167881,
          "user_tz": 300,
          "elapsed": 728,
          "user": {
            "displayName": "Reza Davari",
            "photoUrl": "//lh5.googleusercontent.com/-QVkbnQn2wK4/AAAAAAAAAAI/AAAAAAAAAFA/kgVC69JIYw4/s50-c-k-no/photo.jpg",
            "userId": "106412143772601057521"
          }
        }
      },
      "cell_type": "code",
      "source": [
        "import tensorflow as tf\n",
        "from tensorflow.examples.tutorials.mnist import input_data\n",
        "mnist=input_data.read_data_sets(\"/tmp/data/\", one_hot=True)"
      ],
      "execution_count": 51,
      "outputs": [
        {
          "output_type": "stream",
          "text": [
            "Extracting /tmp/data/train-images-idx3-ubyte.gz\n",
            "Extracting /tmp/data/train-labels-idx1-ubyte.gz\n",
            "Extracting /tmp/data/t10k-images-idx3-ubyte.gz\n",
            "Extracting /tmp/data/t10k-labels-idx1-ubyte.gz\n"
          ],
          "name": "stdout"
        }
      ]
    },
    {
      "metadata": {
        "id": "7bGMdsXmZYXG",
        "colab_type": "code",
        "colab": {
          "autoexec": {
            "startup": false,
            "wait_interval": 0
          }
        }
      },
      "cell_type": "code",
      "source": [
        "number_nodes_hidden_layer1=500\n",
        "number_nodes_hidden_layer2=500\n",
        "number_nodes_hidden_layer3=500\n",
        "number_nodes_hidden_layer4=500\n",
        "\n",
        "number_classes=10\n",
        "batch_size=200\n",
        "\n",
        "x=tf.placeholder(\"float\",[None,784])\n",
        "y=tf.placeholder(\"float\")"
      ],
      "execution_count": 0,
      "outputs": []
    },
    {
      "metadata": {
        "id": "Nxa_httUcscd",
        "colab_type": "code",
        "colab": {
          "autoexec": {
            "startup": false,
            "wait_interval": 0
          }
        }
      },
      "cell_type": "code",
      "source": [
        "def neural_net (data_input):\n",
        "  hidden_layer_1={\"weights\":tf.Variable(tf.random_normal([784,number_nodes_hidden_layer1])),\"biases\":tf.Variable(tf.random_normal([number_nodes_hidden_layer1]))}\n",
        "  hidden_layer_2={\"weights\":tf.Variable(tf.random_normal([number_nodes_hidden_layer1,number_nodes_hidden_layer2])),\"biases\":tf.Variable(tf.random_normal([number_nodes_hidden_layer2]))}\n",
        "  hidden_layer_3={\"weights\":tf.Variable(tf.random_normal([number_nodes_hidden_layer2,number_nodes_hidden_layer3])),\"biases\":tf.Variable(tf.random_normal([number_nodes_hidden_layer3]))}\n",
        "  hidden_layer_4={\"weights\":tf.Variable(tf.random_normal([number_nodes_hidden_layer3,number_nodes_hidden_layer4])),\"biases\":tf.Variable(tf.random_normal([number_nodes_hidden_layer4]))}\n",
        "  output_layer={\"weights\":tf.Variable(tf.random_normal([number_nodes_hidden_layer4,number_classes])),\"biases\":tf.Variable(tf.random_normal([number_classes]))}\n",
        "  \n",
        "  layer1=tf.add(tf.matmul(data_input,hidden_layer_1[\"weights\"]),hidden_layer_1[\"biases\"])\n",
        "  layer1=tf.nn.relu(layer1)\n",
        "  \n",
        "  layer2=tf.add(tf.matmul(layer1,hidden_layer_2[\"weights\"]),hidden_layer_2[\"biases\"])\n",
        "  layer2=tf.nn.relu(layer2)\n",
        "  \n",
        "  layer3=tf.add(tf.matmul(layer2,hidden_layer_3[\"weights\"]),hidden_layer_3[\"biases\"])\n",
        "  layer3=tf.nn.relu(layer3)\n",
        "  \n",
        "  layer4=tf.add(tf.matmul(layer3,hidden_layer_4[\"weights\"]),hidden_layer_4[\"biases\"])\n",
        "  layer4=tf.nn.relu(layer4)\n",
        "  \n",
        "  output=tf.add(tf.matmul(layer4,output_layer[\"weights\"]),output_layer[\"biases\"])\n",
        "  \n",
        "  return output"
      ],
      "execution_count": 0,
      "outputs": []
    },
    {
      "metadata": {
        "id": "TNhWzLdhhmM6",
        "colab_type": "code",
        "colab": {
          "autoexec": {
            "startup": false,
            "wait_interval": 0
          }
        }
      },
      "cell_type": "code",
      "source": [
        "def neural_net_training(x):\n",
        "  prediction = neural_net(x)\n",
        "  cost = tf.reduce_mean(tf.nn.softmax_cross_entropy_with_logits(logits=prediction, labels=y))\n",
        "  optimizer = tf.train.AdamOptimizer().minimize(cost)\n",
        "  epochs_no = 20\n",
        " \n",
        "  with tf.Session() as sess:\n",
        "    sess.run(tf.global_variables_initializer()) \n",
        "  # training\n",
        "    for epoch in range(epochs_no):\n",
        "      epoch_loss = 0\n",
        "      for _ in range(int(mnist.train.num_examples/batch_size)):\n",
        "        epoch_x, epoch_y = mnist.train.next_batch(batch_size)\n",
        "        _, c = sess.run([optimizer, cost], feed_dict = {x: epoch_x, y: epoch_y})\n",
        "        epoch_loss += c\n",
        "      print('Epoch', epoch, 'completed out of', epochs_no, 'loss:', epoch_loss)\n",
        "  # testing\n",
        "    correct = tf.equal(tf.argmax(prediction, 1), tf.argmax(y, 1))\n",
        "    accuracy = tf.reduce_mean(tf.cast(correct, 'float'))\n",
        "    print('Accuracy:', accuracy.eval({x: mnist.test.images, y: mnist.test.labels}))"
      ],
      "execution_count": 0,
      "outputs": []
    },
    {
      "metadata": {
        "id": "0kiDCgNDqrn7",
        "colab_type": "code",
        "colab": {
          "autoexec": {
            "startup": false,
            "wait_interval": 0
          },
          "output_extras": [
            {
              "item_id": 21
            }
          ],
          "base_uri": "https://localhost:8080/",
          "height": 374
        },
        "outputId": "6f5f12f1-dacd-4123-8795-7b5834f993ba",
        "executionInfo": {
          "status": "ok",
          "timestamp": 1519896328384,
          "user_tz": 300,
          "elapsed": 159390,
          "user": {
            "displayName": "Reza Davari",
            "photoUrl": "//lh5.googleusercontent.com/-QVkbnQn2wK4/AAAAAAAAAAI/AAAAAAAAAFA/kgVC69JIYw4/s50-c-k-no/photo.jpg",
            "userId": "106412143772601057521"
          }
        }
      },
      "cell_type": "code",
      "source": [
        "neural_net_training(x)"
      ],
      "execution_count": 55,
      "outputs": [
        {
          "output_type": "stream",
          "text": [
            "Epoch 0 completed out of 20 loss: 15629373.60546875\n",
            "Epoch 1 completed out of 20 loss: 3507226.5551757812\n",
            "Epoch 2 completed out of 20 loss: 1951069.3876953125\n",
            "Epoch 3 completed out of 20 loss: 1169467.859954834\n",
            "Epoch 4 completed out of 20 loss: 725502.0737762451\n",
            "Epoch 5 completed out of 20 loss: 460994.80424022675\n",
            "Epoch 6 completed out of 20 loss: 287595.5774612427\n",
            "Epoch 7 completed out of 20 loss: 184100.7480701208\n",
            "Epoch 8 completed out of 20 loss: 118419.74737274647\n",
            "Epoch 9 completed out of 20 loss: 109788.84470844269\n",
            "Epoch 10 completed out of 20 loss: 86223.7308754921\n",
            "Epoch 11 completed out of 20 loss: 73361.68858391047\n",
            "Epoch 12 completed out of 20 loss: 68951.20708823204\n",
            "Epoch 13 completed out of 20 loss: 68719.21878665686\n",
            "Epoch 14 completed out of 20 loss: 77023.64209020138\n",
            "Epoch 15 completed out of 20 loss: 70928.66517674923\n",
            "Epoch 16 completed out of 20 loss: 76189.55521655083\n",
            "Epoch 17 completed out of 20 loss: 68745.68753510714\n",
            "Epoch 18 completed out of 20 loss: 76759.63729715347\n",
            "Epoch 19 completed out of 20 loss: 93822.55608558655\n",
            "Accuracy: 0.9437\n"
          ],
          "name": "stdout"
        }
      ]
    }
  ]
}